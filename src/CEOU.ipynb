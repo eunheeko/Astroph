{
 "cells": [
  {
   "cell_type": "code",
   "execution_count": 1,
   "id": "be386b5b-7e9e-4744-a652-08f9d1c1e611",
   "metadata": {
    "tags": []
   },
   "outputs": [],
   "source": [
    "import urllib.request as libreq\n",
    "import feedparser\n",
    "\n",
    "from astropy.io import ascii"
   ]
  },
  {
   "cell_type": "code",
   "execution_count": 2,
   "id": "10fa4987-e46d-4f5c-a520-a13dd6b2300f",
   "metadata": {
    "tags": []
   },
   "outputs": [],
   "source": [
    "# papers = ascii.read('./papers/CEOU_arxiv_input.txt', format = 'no_header')"
   ]
  },
  {
   "cell_type": "code",
   "execution_count": 3,
   "id": "1e1f5aba-e427-444c-b6df-b92235d22799",
   "metadata": {
    "tags": []
   },
   "outputs": [],
   "source": [
    "with open('./papers/CEOU_arxiv_input.txt', 'r') as f:\n",
    "    papers = f.readlines()"
   ]
  },
  {
   "cell_type": "code",
   "execution_count": 4,
   "id": "d69543ec-9069-4cb5-8e03-1aeaf3571264",
   "metadata": {
    "tags": []
   },
   "outputs": [],
   "source": [
    "# id_papers\n",
    "id_papers = [x.split('/')[-1] for x in papers]\n",
    "id_papers = [x.split('\\n')[0] for x in id_papers]"
   ]
  },
  {
   "cell_type": "code",
   "execution_count": 5,
   "id": "c86f81c4-fdc3-4412-969f-56da1d084d2a",
   "metadata": {
    "tags": []
   },
   "outputs": [],
   "source": [
    "base_url = 'http://export.arxiv.org/api/query?';\n"
   ]
  },
  {
   "cell_type": "code",
   "execution_count": null,
   "id": "7e07e730-e5f4-469c-8ace-d32a69919c48",
   "metadata": {},
   "outputs": [],
   "source": []
  }
 ],
 "metadata": {
  "kernelspec": {
   "display_name": "Python 3 (ipykernel)",
   "language": "python",
   "name": "python3"
  },
  "language_info": {
   "codemirror_mode": {
    "name": "ipython",
    "version": 3
   },
   "file_extension": ".py",
   "mimetype": "text/x-python",
   "name": "python",
   "nbconvert_exporter": "python",
   "pygments_lexer": "ipython3",
   "version": "3.10.11"
  }
 },
 "nbformat": 4,
 "nbformat_minor": 5
}
